{
 "cells": [
  {
   "cell_type": "code",
   "execution_count": 1,
   "id": "unlimited-instruction",
   "metadata": {},
   "outputs": [],
   "source": [
    "# Import numpy, data, decision tree, random forest classifier, and train_test_split\n",
    "import numpy as np\n",
    "import pandas as pd\n",
    "import umap\n",
    "import os\n",
    "import matplotlib.pyplot as plt\n",
    "import seaborn as sns; sns.set()\n",
    "from sklearn.datasets import load_iris\n",
    "from sklearn.tree import DecisionTreeClassifier\n",
    "from sklearn.ensemble import RandomForestClassifier\n",
    "from sklearn.model_selection import train_test_split\n",
    "from sklearn.metrics import confusion_matrix\n",
    "from sklearn import svm"
   ]
  },
  {
   "cell_type": "markdown",
   "id": "secondary-liver",
   "metadata": {},
   "source": [
    "# Read data in a list call data_sets"
   ]
  },
  {
   "cell_type": "code",
   "execution_count": 2,
   "id": "stretch-penny",
   "metadata": {},
   "outputs": [
    {
     "data": {
      "text/plain": [
       "['naive_t.gz',\n",
       " 'cd56_nk.gz',\n",
       " 'memory_t.gz',\n",
       " 'cd4_t_helper.gz',\n",
       " 'cd34.gz',\n",
       " 'regulatory_t.gz',\n",
       " 'b_cells.gz',\n",
       " 'cd14_monocytes.gz',\n",
       " 'cytotoxic_t.gz',\n",
       " 'naive_cytotoxic.gz']"
      ]
     },
     "execution_count": 2,
     "metadata": {},
     "output_type": "execute_result"
    }
   ],
   "source": [
    "# Read data in a list call data_sets\n",
    "data_sets=os.listdir('/ifs/obds-training/jan21/exercises/machine_learning/Sep_data/')\n",
    "data_sets"
   ]
  },
  {
   "cell_type": "code",
   "execution_count": 3,
   "id": "according-tuition",
   "metadata": {},
   "outputs": [],
   "source": [
    "# file_i is to interate over each file in that data_sets list. Create a list of dataframe objects\n",
    "all_data = [pd.read_csv(\"/ifs/obds-training/jan21/exercises/machine_learning/Sep_data/\" + file_i) for file_i in data_sets]"
   ]
  },
  {
   "cell_type": "code",
   "execution_count": 4,
   "id": "settled-consensus",
   "metadata": {},
   "outputs": [
    {
     "data": {
      "text/plain": [
       "(4000, 6188)"
      ]
     },
     "execution_count": 4,
     "metadata": {},
     "output_type": "execute_result"
    }
   ],
   "source": [
    "#Concatenate all data into one set call all_data. Each file contains 400 cells/rows.\n",
    "all_data = pd.concat(all_data)\n",
    "all_data.shape"
   ]
  },
  {
   "cell_type": "code",
   "execution_count": 6,
   "id": "preceding-louisville",
   "metadata": {},
   "outputs": [
    {
     "name": "stdout",
     "output_type": "stream",
     "text": [
      "['naive_t.gz' 'naive_t.gz' 'naive_t.gz' ... 'naive_cytotoxic.gz'\n",
      " 'naive_cytotoxic.gz' 'naive_cytotoxic.gz']\n",
      "[0 0 0 ... 9 9 9]\n"
     ]
    }
   ],
   "source": [
    "# Each dataframe has 400 cells of each cell type.\n",
    "# Create labels for each cell in each type. The labels are assigned a number 'naive_t.qz=0', 'cd56_nk.gz=1' etc...\n",
    "labels = np.repeat(data_sets, 400)\n",
    "print (labels)\n",
    "labels_num = np.repeat(range(len(data_sets)), 400)\n",
    "print (labels_num)"
   ]
  },
  {
   "cell_type": "code",
   "execution_count": 7,
   "id": "advised-drawing",
   "metadata": {},
   "outputs": [
    {
     "data": {
      "text/html": [
       "<div>\n",
       "<style scoped>\n",
       "    .dataframe tbody tr th:only-of-type {\n",
       "        vertical-align: middle;\n",
       "    }\n",
       "\n",
       "    .dataframe tbody tr th {\n",
       "        vertical-align: top;\n",
       "    }\n",
       "\n",
       "    .dataframe thead th {\n",
       "        text-align: right;\n",
       "    }\n",
       "</style>\n",
       "<table border=\"1\" class=\"dataframe\">\n",
       "  <thead>\n",
       "    <tr style=\"text-align: right;\">\n",
       "      <th></th>\n",
       "      <th>A1BG</th>\n",
       "      <th>AAAS</th>\n",
       "      <th>AAED1</th>\n",
       "      <th>AAGAB</th>\n",
       "      <th>AAK1</th>\n",
       "      <th>AAMDC</th>\n",
       "      <th>AAMP</th>\n",
       "      <th>AAR2</th>\n",
       "      <th>AARSD1</th>\n",
       "      <th>AASDHPPT</th>\n",
       "      <th>...</th>\n",
       "      <th>ZNHIT3</th>\n",
       "      <th>ZNHIT6</th>\n",
       "      <th>ZNRD1</th>\n",
       "      <th>ZRANB2</th>\n",
       "      <th>ZRSR2</th>\n",
       "      <th>ZSCAN16</th>\n",
       "      <th>ZSCAN16-AS1</th>\n",
       "      <th>ZSCAN18</th>\n",
       "      <th>ZSWIM7</th>\n",
       "      <th>ZYX</th>\n",
       "    </tr>\n",
       "  </thead>\n",
       "  <tbody>\n",
       "    <tr>\n",
       "      <th>0</th>\n",
       "      <td>0.000000</td>\n",
       "      <td>7.722008</td>\n",
       "      <td>0.0</td>\n",
       "      <td>0.0</td>\n",
       "      <td>0.0</td>\n",
       "      <td>0.0</td>\n",
       "      <td>0.0</td>\n",
       "      <td>7.722008</td>\n",
       "      <td>0.000000</td>\n",
       "      <td>0.0</td>\n",
       "      <td>...</td>\n",
       "      <td>0.0</td>\n",
       "      <td>0.0</td>\n",
       "      <td>0.0</td>\n",
       "      <td>0.0</td>\n",
       "      <td>0.0</td>\n",
       "      <td>0.0</td>\n",
       "      <td>0.0</td>\n",
       "      <td>0.0</td>\n",
       "      <td>0.0</td>\n",
       "      <td>7.722008</td>\n",
       "    </tr>\n",
       "    <tr>\n",
       "      <th>1</th>\n",
       "      <td>0.000000</td>\n",
       "      <td>0.000000</td>\n",
       "      <td>0.0</td>\n",
       "      <td>0.0</td>\n",
       "      <td>0.0</td>\n",
       "      <td>0.0</td>\n",
       "      <td>0.0</td>\n",
       "      <td>0.000000</td>\n",
       "      <td>0.000000</td>\n",
       "      <td>0.0</td>\n",
       "      <td>...</td>\n",
       "      <td>0.0</td>\n",
       "      <td>0.0</td>\n",
       "      <td>0.0</td>\n",
       "      <td>0.0</td>\n",
       "      <td>0.0</td>\n",
       "      <td>0.0</td>\n",
       "      <td>0.0</td>\n",
       "      <td>0.0</td>\n",
       "      <td>0.0</td>\n",
       "      <td>0.000000</td>\n",
       "    </tr>\n",
       "    <tr>\n",
       "      <th>2</th>\n",
       "      <td>0.000000</td>\n",
       "      <td>0.000000</td>\n",
       "      <td>0.0</td>\n",
       "      <td>0.0</td>\n",
       "      <td>0.0</td>\n",
       "      <td>0.0</td>\n",
       "      <td>0.0</td>\n",
       "      <td>0.000000</td>\n",
       "      <td>0.000000</td>\n",
       "      <td>0.0</td>\n",
       "      <td>...</td>\n",
       "      <td>0.0</td>\n",
       "      <td>0.0</td>\n",
       "      <td>0.0</td>\n",
       "      <td>0.0</td>\n",
       "      <td>0.0</td>\n",
       "      <td>0.0</td>\n",
       "      <td>0.0</td>\n",
       "      <td>0.0</td>\n",
       "      <td>0.0</td>\n",
       "      <td>0.000000</td>\n",
       "    </tr>\n",
       "    <tr>\n",
       "      <th>3</th>\n",
       "      <td>8.488964</td>\n",
       "      <td>0.000000</td>\n",
       "      <td>0.0</td>\n",
       "      <td>0.0</td>\n",
       "      <td>0.0</td>\n",
       "      <td>0.0</td>\n",
       "      <td>0.0</td>\n",
       "      <td>0.000000</td>\n",
       "      <td>8.488964</td>\n",
       "      <td>0.0</td>\n",
       "      <td>...</td>\n",
       "      <td>0.0</td>\n",
       "      <td>0.0</td>\n",
       "      <td>0.0</td>\n",
       "      <td>0.0</td>\n",
       "      <td>0.0</td>\n",
       "      <td>0.0</td>\n",
       "      <td>0.0</td>\n",
       "      <td>0.0</td>\n",
       "      <td>0.0</td>\n",
       "      <td>0.000000</td>\n",
       "    </tr>\n",
       "    <tr>\n",
       "      <th>4</th>\n",
       "      <td>0.000000</td>\n",
       "      <td>0.000000</td>\n",
       "      <td>0.0</td>\n",
       "      <td>0.0</td>\n",
       "      <td>0.0</td>\n",
       "      <td>0.0</td>\n",
       "      <td>0.0</td>\n",
       "      <td>0.000000</td>\n",
       "      <td>0.000000</td>\n",
       "      <td>0.0</td>\n",
       "      <td>...</td>\n",
       "      <td>0.0</td>\n",
       "      <td>0.0</td>\n",
       "      <td>0.0</td>\n",
       "      <td>0.0</td>\n",
       "      <td>0.0</td>\n",
       "      <td>0.0</td>\n",
       "      <td>0.0</td>\n",
       "      <td>0.0</td>\n",
       "      <td>0.0</td>\n",
       "      <td>9.174312</td>\n",
       "    </tr>\n",
       "  </tbody>\n",
       "</table>\n",
       "<p>5 rows × 6188 columns</p>\n",
       "</div>"
      ],
      "text/plain": [
       "       A1BG      AAAS  AAED1  AAGAB  AAK1  AAMDC  AAMP      AAR2    AARSD1  \\\n",
       "0  0.000000  7.722008    0.0    0.0   0.0    0.0   0.0  7.722008  0.000000   \n",
       "1  0.000000  0.000000    0.0    0.0   0.0    0.0   0.0  0.000000  0.000000   \n",
       "2  0.000000  0.000000    0.0    0.0   0.0    0.0   0.0  0.000000  0.000000   \n",
       "3  8.488964  0.000000    0.0    0.0   0.0    0.0   0.0  0.000000  8.488964   \n",
       "4  0.000000  0.000000    0.0    0.0   0.0    0.0   0.0  0.000000  0.000000   \n",
       "\n",
       "   AASDHPPT  ...  ZNHIT3  ZNHIT6  ZNRD1  ZRANB2  ZRSR2  ZSCAN16  ZSCAN16-AS1  \\\n",
       "0       0.0  ...     0.0     0.0    0.0     0.0    0.0      0.0          0.0   \n",
       "1       0.0  ...     0.0     0.0    0.0     0.0    0.0      0.0          0.0   \n",
       "2       0.0  ...     0.0     0.0    0.0     0.0    0.0      0.0          0.0   \n",
       "3       0.0  ...     0.0     0.0    0.0     0.0    0.0      0.0          0.0   \n",
       "4       0.0  ...     0.0     0.0    0.0     0.0    0.0      0.0          0.0   \n",
       "\n",
       "   ZSCAN18  ZSWIM7       ZYX  \n",
       "0      0.0     0.0  7.722008  \n",
       "1      0.0     0.0  0.000000  \n",
       "2      0.0     0.0  0.000000  \n",
       "3      0.0     0.0  0.000000  \n",
       "4      0.0     0.0  9.174312  \n",
       "\n",
       "[5 rows x 6188 columns]"
      ]
     },
     "execution_count": 7,
     "metadata": {},
     "output_type": "execute_result"
    }
   ],
   "source": [
    "all_data.head()"
   ]
  },
  {
   "cell_type": "markdown",
   "id": "local-pricing",
   "metadata": {},
   "source": [
    "# Use umap with 20 neighbours to get lower dim for plotting"
   ]
  },
  {
   "cell_type": "code",
   "execution_count": 28,
   "id": "naked-reducing",
   "metadata": {},
   "outputs": [
    {
     "data": {
      "text/plain": [
       "[<matplotlib.lines.Line2D at 0x7f5a02e41390>]"
      ]
     },
     "execution_count": 28,
     "metadata": {},
     "output_type": "execute_result"
    },
    {
     "data": {
      "image/png": "[encoded data removed]",
      "text/plain": [
       "<Figure size 432x288 with 1 Axes>"
      ]
     },
     "metadata": {},
     "output_type": "display_data"
    }
   ],
   "source": [
    "# We imported the umap library, if we need to use UMAP function in the umap library, we need to use umap.UMAP to call the UMAP function\n",
    "# Set random seed 'random_state=42'\n",
    "umap_instance=umap.UMAP(n_components=2, n_neighbors = 20, random_state=42)\n",
    "umap_transformed=umap_instance.fit_transform(all_data)\n",
    "plt.plot(umap_transformed[:,0],umap_transformed[:,1],'o',markersize=0.5)"
   ]
  },
  {
   "cell_type": "code",
   "execution_count": 29,
   "id": "working-hamilton",
   "metadata": {},
   "outputs": [
    {
     "data": {
      "text/plain": [
       "4000"
      ]
     },
     "execution_count": 29,
     "metadata": {},
     "output_type": "execute_result"
    }
   ],
   "source": [
    "# Check the number of rows\n",
    "len(umap_transformed[:,0])"
   ]
  },
  {
   "cell_type": "code",
   "execution_count": 30,
   "id": "chief-halifax",
   "metadata": {},
   "outputs": [
    {
     "data": {
      "text/plain": [
       "2"
      ]
     },
     "execution_count": 30,
     "metadata": {},
     "output_type": "execute_result"
    }
   ],
   "source": [
    "# Check the number of columns\n",
    "len(umap_transformed[0,:])"
   ]
  },
  {
   "cell_type": "code",
   "execution_count": 31,
   "id": "involved-despite",
   "metadata": {},
   "outputs": [
    {
     "name": "stdout",
     "output_type": "stream",
     "text": [
      "                  Labels    Dim_1    Dim_2\n",
      "0             naive_t.gz  12.4626  7.84672\n",
      "1             naive_t.gz  12.4187   7.5191\n",
      "2             naive_t.gz  11.4498  7.48505\n",
      "3             naive_t.gz  11.4348  6.78898\n",
      "4             naive_t.gz  11.1428  7.94338\n",
      "...                  ...      ...      ...\n",
      "3995  naive_cytotoxic.gz  9.66661   11.248\n",
      "3996  naive_cytotoxic.gz  9.35964  11.1544\n",
      "3997  naive_cytotoxic.gz  9.31993   10.713\n",
      "3998  naive_cytotoxic.gz  9.85742  11.2823\n",
      "3999  naive_cytotoxic.gz  9.31678   10.743\n",
      "\n",
      "[4000 rows x 3 columns]\n"
     ]
    }
   ],
   "source": [
    "#Create a data frame with umap dims and labels as an extra column\n",
    "# Combine the arrays 'labels' and 'umap_transformed dimensions' into a new dataframe, and then transpose the dataframe\n",
    "umap_bloodcells=pd.DataFrame([labels, umap_transformed[:,0], umap_transformed[:,1]]).T\n",
    "umap_bloodcells.columns=['Labels','Dim_1','Dim_2']\n",
    "print(umap_bloodcells)"
   ]
  },
  {
   "cell_type": "code",
   "execution_count": 32,
   "id": "available-programming",
   "metadata": {},
   "outputs": [
    {
     "data": {
      "text/plain": [
       "<seaborn.axisgrid.FacetGrid at 0x7f5a02fa1a90>"
      ]
     },
     "execution_count": 32,
     "metadata": {},
     "output_type": "execute_result"
    },
    {
     "data": {
      "image/png": "[encoded data removed]",
      "text/plain": [
       "<Figure size 509.225x360 with 1 Axes>"
      ]
     },
     "metadata": {},
     "output_type": "display_data"
    }
   ],
   "source": [
    "#Plot the new dataframe\n",
    "sns.relplot(data=umap_bloodcells,x='Dim_1',y='Dim_2',hue='Labels')"
   ]
  },
  {
   "cell_type": "markdown",
   "id": "mechanical-triangle",
   "metadata": {},
   "source": [
    "# Split data into train and test and run decision tree"
   ]
  },
  {
   "cell_type": "code",
   "execution_count": 34,
   "id": "considerable-advantage",
   "metadata": {},
   "outputs": [],
   "source": [
    "# Split the data and the labels into 0.25 test data\n",
    "data_train, data_test, labels_train, labels_test = train_test_split(all_data, labels_num, test_size=0.25)"
   ]
  },
  {
   "cell_type": "code",
   "execution_count": 41,
   "id": "blessed-summer",
   "metadata": {},
   "outputs": [
    {
     "name": "stdout",
     "output_type": "stream",
     "text": [
      "1.0\n",
      "0.68\n"
     ]
    }
   ],
   "source": [
    "# Train the DecisionTreeClassifier\n",
    "clf = DecisionTreeClassifier()\n",
    "# Fit the data with the classifier. We are using the default parameters\n",
    "clf = clf.fit(data_train, labels_train)\n",
    "# First score to check the prediction score\n",
    "print(clf.score(data_train, labels_train))\n",
    "print(clf.score(data_test, labels_test))"
   ]
  },
  {
   "cell_type": "markdown",
   "id": "underlying-policy",
   "metadata": {},
   "source": [
    "# Random forest"
   ]
  },
  {
   "cell_type": "code",
   "execution_count": 43,
   "id": "thorough-arrangement",
   "metadata": {},
   "outputs": [
    {
     "name": "stdout",
     "output_type": "stream",
     "text": [
      "1.0\n",
      "0.814\n"
     ]
    }
   ],
   "source": [
    "#Train a random forest with the same data and calculate the score for training data and test data\n",
    "clf_forest = RandomForestClassifier() # Default parameters, these often need tuning\n",
    "clf_forest = clf_forest.fit(data_train, labels_train)\n",
    "print(clf_forest.score(data_train, labels_train))\n",
    "print(clf_forest.score(data_test, labels_test))"
   ]
  },
  {
   "cell_type": "code",
   "execution_count": 44,
   "id": "excessive-collins",
   "metadata": {},
   "outputs": [
    {
     "name": "stdout",
     "output_type": "stream",
     "text": [
      "1.0\n",
      "0.837\n"
     ]
    }
   ],
   "source": [
    "# Change the number of trees unsed (n_estimators) to 250\n",
    "clf_forest = RandomForestClassifier(n_estimators=250) # Default parameters, these often need tuning\n",
    "clf_forest = clf_forest.fit(data_train, labels_train)\n",
    "print(clf_forest.score(data_train, labels_train))\n",
    "print(clf_forest.score(data_test, labels_test))"
   ]
  },
  {
   "cell_type": "code",
   "execution_count": 49,
   "id": "conventional-vampire",
   "metadata": {},
   "outputs": [
    {
     "data": {
      "text/html": [
       "<div>\n",
       "<style scoped>\n",
       "    .dataframe tbody tr th:only-of-type {\n",
       "        vertical-align: middle;\n",
       "    }\n",
       "\n",
       "    .dataframe tbody tr th {\n",
       "        vertical-align: top;\n",
       "    }\n",
       "\n",
       "    .dataframe thead th {\n",
       "        text-align: right;\n",
       "    }\n",
       "</style>\n",
       "<table border=\"1\" class=\"dataframe\">\n",
       "  <thead>\n",
       "    <tr style=\"text-align: right;\">\n",
       "      <th></th>\n",
       "      <th>importance</th>\n",
       "    </tr>\n",
       "  </thead>\n",
       "  <tbody>\n",
       "    <tr>\n",
       "      <th>CD74</th>\n",
       "      <td>0.101534</td>\n",
       "    </tr>\n",
       "    <tr>\n",
       "      <th>GNLY</th>\n",
       "      <td>0.098344</td>\n",
       "    </tr>\n",
       "    <tr>\n",
       "      <th>S100A8</th>\n",
       "      <td>0.091458</td>\n",
       "    </tr>\n",
       "    <tr>\n",
       "      <th>HLA-DRA</th>\n",
       "      <td>0.066510</td>\n",
       "    </tr>\n",
       "    <tr>\n",
       "      <th>CD8B</th>\n",
       "      <td>0.059927</td>\n",
       "    </tr>\n",
       "    <tr>\n",
       "      <th>MALAT1</th>\n",
       "      <td>0.047301</td>\n",
       "    </tr>\n",
       "    <tr>\n",
       "      <th>RPS27</th>\n",
       "      <td>0.038699</td>\n",
       "    </tr>\n",
       "    <tr>\n",
       "      <th>S100A4</th>\n",
       "      <td>0.037989</td>\n",
       "    </tr>\n",
       "    <tr>\n",
       "      <th>ZFAS1</th>\n",
       "      <td>0.014746</td>\n",
       "    </tr>\n",
       "    <tr>\n",
       "      <th>RPS15A</th>\n",
       "      <td>0.013001</td>\n",
       "    </tr>\n",
       "    <tr>\n",
       "      <th>RPL3</th>\n",
       "      <td>0.012909</td>\n",
       "    </tr>\n",
       "    <tr>\n",
       "      <th>CCL5</th>\n",
       "      <td>0.012741</td>\n",
       "    </tr>\n",
       "    <tr>\n",
       "      <th>DUSP1</th>\n",
       "      <td>0.010848</td>\n",
       "    </tr>\n",
       "    <tr>\n",
       "      <th>RPLP2</th>\n",
       "      <td>0.009419</td>\n",
       "    </tr>\n",
       "    <tr>\n",
       "      <th>CD3D</th>\n",
       "      <td>0.009389</td>\n",
       "    </tr>\n",
       "    <tr>\n",
       "      <th>B2M</th>\n",
       "      <td>0.009286</td>\n",
       "    </tr>\n",
       "    <tr>\n",
       "      <th>RPL37</th>\n",
       "      <td>0.007718</td>\n",
       "    </tr>\n",
       "    <tr>\n",
       "      <th>CST3</th>\n",
       "      <td>0.007208</td>\n",
       "    </tr>\n",
       "    <tr>\n",
       "      <th>CD52</th>\n",
       "      <td>0.006697</td>\n",
       "    </tr>\n",
       "    <tr>\n",
       "      <th>RPL23A</th>\n",
       "      <td>0.005989</td>\n",
       "    </tr>\n",
       "  </tbody>\n",
       "</table>\n",
       "</div>"
      ],
      "text/plain": [
       "         importance\n",
       "CD74       0.101534\n",
       "GNLY       0.098344\n",
       "S100A8     0.091458\n",
       "HLA-DRA    0.066510\n",
       "CD8B       0.059927\n",
       "MALAT1     0.047301\n",
       "RPS27      0.038699\n",
       "S100A4     0.037989\n",
       "ZFAS1      0.014746\n",
       "RPS15A     0.013001\n",
       "RPL3       0.012909\n",
       "CCL5       0.012741\n",
       "DUSP1      0.010848\n",
       "RPLP2      0.009419\n",
       "CD3D       0.009389\n",
       "B2M        0.009286\n",
       "RPL37      0.007718\n",
       "CST3       0.007208\n",
       "CD52       0.006697\n",
       "RPL23A     0.005989"
      ]
     },
     "execution_count": 49,
     "metadata": {},
     "output_type": "execute_result"
    }
   ],
   "source": [
    "#Calculate the importance for each feature it uses (genes) to classify and look at the top features\n",
    "feature_importances = pd.DataFrame(clf.feature_importances_,\n",
    "                                  index=all_data.columns,\n",
    "                                  columns=['importance']).sort_values('importance',ascending=False)\n",
    "feature_importances.head(20)"
   ]
  },
  {
   "cell_type": "code",
   "execution_count": 50,
   "id": "offensive-hypothetical",
   "metadata": {},
   "outputs": [
    {
     "name": "stdout",
     "output_type": "stream",
     "text": [
      "0.912\n",
      "0.851\n"
     ]
    }
   ],
   "source": [
    "# Use different classifiers from scikit list\n",
    "clf_svm = svm.SVC() # Default parameters, these often need tuning\n",
    "clf_svm = clf_svm.fit(data_train, labels_train)\n",
    "print(clf_svm.score(data_train, labels_train))\n",
    "print(clf_svm.score(data_test, labels_test))"
   ]
  }
 ],
 "metadata": {
  "kernelspec": {
   "display_name": "Python 3",
   "language": "python",
   "name": "python3"
  },
  "language_info": {
   "codemirror_mode": {
    "name": "ipython",
    "version": 3
   },
   "file_extension": ".py",
   "mimetype": "text/x-python",
   "name": "python",
   "nbconvert_exporter": "python",
   "pygments_lexer": "ipython3",
   "version": "3.6.12"
  }
 },
 "nbformat": 4,
 "nbformat_minor": 5
}
